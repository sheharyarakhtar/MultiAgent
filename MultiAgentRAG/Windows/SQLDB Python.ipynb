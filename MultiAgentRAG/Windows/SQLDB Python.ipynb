{
 "cells": [
  {
   "cell_type": "code",
   "execution_count": 1,
   "id": "e3ca07b0-2879-4259-9b2d-4853f95d03bb",
   "metadata": {},
   "outputs": [
    {
     "name": "stdout",
     "output_type": "stream",
     "text": [
      "SELECT T1.Description, T1.Price, T1.Country, COUNT(T1.Description) AS PurchaseCount FROM (SELECT Description, Price, Country FROM CRM ORDER BY Price DESC LIMIT 1) AS T1 INNER JOIN CRM AS T2 ON T1.Description = T2.Description GROUP BY T1.Description, T1.Price, T1.Country ORDER BY PurchaseCount DESC LIMIT 1\n",
      "[('Manual', 25111.09, 'United Kingdom', 854)]\n"
     ]
    },
    {
     "data": {
      "text/html": [
       "<div>\n",
       "<style scoped>\n",
       "    .dataframe tbody tr th:only-of-type {\n",
       "        vertical-align: middle;\n",
       "    }\n",
       "\n",
       "    .dataframe tbody tr th {\n",
       "        vertical-align: top;\n",
       "    }\n",
       "\n",
       "    .dataframe thead th {\n",
       "        text-align: right;\n",
       "    }\n",
       "</style>\n",
       "<table border=\"1\" class=\"dataframe\">\n",
       "  <thead>\n",
       "    <tr style=\"text-align: right;\">\n",
       "      <th></th>\n",
       "      <th>Description</th>\n",
       "      <th>Price</th>\n",
       "      <th>Country</th>\n",
       "      <th>PurchaseCount</th>\n",
       "    </tr>\n",
       "  </thead>\n",
       "  <tbody>\n",
       "    <tr>\n",
       "      <th>0</th>\n",
       "      <td>Manual</td>\n",
       "      <td>25111.09</td>\n",
       "      <td>United Kingdom</td>\n",
       "      <td>854</td>\n",
       "    </tr>\n",
       "  </tbody>\n",
       "</table>\n",
       "</div>"
      ],
      "text/plain": [
       "  Description     Price         Country  PurchaseCount\n",
       "0      Manual  25111.09  United Kingdom            854"
      ]
     },
     "execution_count": 1,
     "metadata": {},
     "output_type": "execute_result"
    }
   ],
   "source": [
    "from SQLAgent import *\n",
    "from dotenv import load_dotenv\n",
    "from langchain_google_genai import ChatGoogleGenerativeAI\n",
    "load_dotenv()\n",
    "llm = ChatGoogleGenerativeAI(model = 'gemini-1.5-flash', temprature = 0)\n",
    "db_name = \"customer_database\"\n",
    "table_name = \"CRM\"\n",
    "question = \"Whats our most expensive product and what is its price? Which country has it been bought the most?\"\n",
    "\n",
    "df = sql_agent_response(\n",
    "    question = question, \n",
    "    llm = llm, \n",
    "    db_name = db_name, \n",
    "    table_name = table_name)\n",
    "df"
   ]
  },
  {
   "cell_type": "code",
   "execution_count": 31,
   "id": "9925c664-f462-4331-b60f-8e34480f1928",
   "metadata": {},
   "outputs": [
    {
     "data": {
      "text/plain": [
       "[(0, 'Invoice', 'TEXT', 0, None, 0),\n",
       " (1, 'StockCode', 'TEXT', 0, None, 0),\n",
       " (2, 'Description', 'TEXT', 0, None, 0),\n",
       " (3, 'Quantity', 'INTEGER', 0, None, 0),\n",
       " (4, 'InvoiceDate', 'TIMESTAMP', 0, None, 0),\n",
       " (5, 'Price', 'REAL', 0, None, 0),\n",
       " (6, 'Customer_ID', 'REAL', 0, None, 0),\n",
       " (7, 'Country', 'TEXT', 0, None, 0)]"
      ]
     },
     "execution_count": 31,
     "metadata": {},
     "output_type": "execute_result"
    }
   ],
   "source": [
    "conn = sqlite3.connect('customer_database.db')\n",
    "cursor = conn.cursor()\n",
    "cursor.execute(\"PRAGMA table_info([CRM]);\")\n",
    "# result = pd.DataFrame(cursor.fetchall())\n",
    "cursor.fetchall()"
   ]
  },
  {
   "cell_type": "code",
   "execution_count": 1,
   "id": "deb06bb1-4314-4f87-aeb6-c358455f1392",
   "metadata": {},
   "outputs": [],
   "source": [
    "import sqlite3\n",
    "import pandas as pd"
   ]
  },
  {
   "cell_type": "code",
   "execution_count": 6,
   "id": "1e605b32-2f09-4e74-9d3b-db9d46e1bab4",
   "metadata": {},
   "outputs": [],
   "source": [
    "conn = sqlite3.connect(\"customer_database.db\")\n",
    "cursor = conn.cursor()"
   ]
  },
  {
   "cell_type": "code",
   "execution_count": 5,
   "id": "70349f99-ffec-4f8d-b64b-314fb3531ba3",
   "metadata": {},
   "outputs": [
    {
     "data": {
      "text/html": [
       "<div>\n",
       "<style scoped>\n",
       "    .dataframe tbody tr th:only-of-type {\n",
       "        vertical-align: middle;\n",
       "    }\n",
       "\n",
       "    .dataframe tbody tr th {\n",
       "        vertical-align: top;\n",
       "    }\n",
       "\n",
       "    .dataframe thead th {\n",
       "        text-align: right;\n",
       "    }\n",
       "</style>\n",
       "<table border=\"1\" class=\"dataframe\">\n",
       "  <thead>\n",
       "    <tr style=\"text-align: right;\">\n",
       "      <th></th>\n",
       "      <th>Invoice</th>\n",
       "      <th>StockCode</th>\n",
       "      <th>Description</th>\n",
       "      <th>Quantity</th>\n",
       "      <th>InvoiceDate</th>\n",
       "      <th>Price</th>\n",
       "      <th>Customer ID</th>\n",
       "      <th>Country</th>\n",
       "    </tr>\n",
       "  </thead>\n",
       "  <tbody>\n",
       "    <tr>\n",
       "      <th>0</th>\n",
       "      <td>489434</td>\n",
       "      <td>85048</td>\n",
       "      <td>15CM CHRISTMAS GLASS BALL 20 LIGHTS</td>\n",
       "      <td>12</td>\n",
       "      <td>2009-12-01 07:45:00</td>\n",
       "      <td>6.95</td>\n",
       "      <td>13085.0</td>\n",
       "      <td>United Kingdom</td>\n",
       "    </tr>\n",
       "    <tr>\n",
       "      <th>1</th>\n",
       "      <td>489434</td>\n",
       "      <td>79323P</td>\n",
       "      <td>PINK CHERRY LIGHTS</td>\n",
       "      <td>12</td>\n",
       "      <td>2009-12-01 07:45:00</td>\n",
       "      <td>6.75</td>\n",
       "      <td>13085.0</td>\n",
       "      <td>United Kingdom</td>\n",
       "    </tr>\n",
       "    <tr>\n",
       "      <th>2</th>\n",
       "      <td>489434</td>\n",
       "      <td>79323W</td>\n",
       "      <td>WHITE CHERRY LIGHTS</td>\n",
       "      <td>12</td>\n",
       "      <td>2009-12-01 07:45:00</td>\n",
       "      <td>6.75</td>\n",
       "      <td>13085.0</td>\n",
       "      <td>United Kingdom</td>\n",
       "    </tr>\n",
       "    <tr>\n",
       "      <th>3</th>\n",
       "      <td>489434</td>\n",
       "      <td>22041</td>\n",
       "      <td>RECORD FRAME 7\" SINGLE SIZE</td>\n",
       "      <td>48</td>\n",
       "      <td>2009-12-01 07:45:00</td>\n",
       "      <td>2.10</td>\n",
       "      <td>13085.0</td>\n",
       "      <td>United Kingdom</td>\n",
       "    </tr>\n",
       "    <tr>\n",
       "      <th>4</th>\n",
       "      <td>489434</td>\n",
       "      <td>21232</td>\n",
       "      <td>STRAWBERRY CERAMIC TRINKET BOX</td>\n",
       "      <td>24</td>\n",
       "      <td>2009-12-01 07:45:00</td>\n",
       "      <td>1.25</td>\n",
       "      <td>13085.0</td>\n",
       "      <td>United Kingdom</td>\n",
       "    </tr>\n",
       "  </tbody>\n",
       "</table>\n",
       "</div>"
      ],
      "text/plain": [
       "  Invoice StockCode                          Description  Quantity  \\\n",
       "0  489434     85048  15CM CHRISTMAS GLASS BALL 20 LIGHTS        12   \n",
       "1  489434    79323P                   PINK CHERRY LIGHTS        12   \n",
       "2  489434    79323W                  WHITE CHERRY LIGHTS        12   \n",
       "3  489434     22041         RECORD FRAME 7\" SINGLE SIZE         48   \n",
       "4  489434     21232       STRAWBERRY CERAMIC TRINKET BOX        24   \n",
       "\n",
       "          InvoiceDate  Price  Customer ID         Country  \n",
       "0 2009-12-01 07:45:00   6.95      13085.0  United Kingdom  \n",
       "1 2009-12-01 07:45:00   6.75      13085.0  United Kingdom  \n",
       "2 2009-12-01 07:45:00   6.75      13085.0  United Kingdom  \n",
       "3 2009-12-01 07:45:00   2.10      13085.0  United Kingdom  \n",
       "4 2009-12-01 07:45:00   1.25      13085.0  United Kingdom  "
      ]
     },
     "execution_count": 5,
     "metadata": {},
     "output_type": "execute_result"
    }
   ],
   "source": [
    "df = pd.read_excel('../online_retail_II.xlsx')\n",
    "df.head()"
   ]
  },
  {
   "cell_type": "code",
   "execution_count": 17,
   "id": "2df454b7-3f56-476f-8d29-8cc8ad2c72e4",
   "metadata": {},
   "outputs": [
    {
     "data": {
      "text/plain": [
       "525461"
      ]
     },
     "execution_count": 17,
     "metadata": {},
     "output_type": "execute_result"
    }
   ],
   "source": [
    "df.columns = [i.replace(' ','_') for i in df.columns]\n",
    "df.to_sql('CRM',conn,if_exists='replace',index = False)"
   ]
  },
  {
   "cell_type": "code",
   "execution_count": 18,
   "id": "d1fe9dbf-fa6f-4ec5-9f71-166de7b86bc9",
   "metadata": {},
   "outputs": [],
   "source": [
    "conn.commit()\n",
    "conn.close()"
   ]
  },
  {
   "cell_type": "code",
   "execution_count": 2,
   "id": "207871fb-746c-43ce-beb9-96f9cd5cfa2f",
   "metadata": {},
   "outputs": [],
   "source": [
    "import sqlite3\n",
    "import pandas as pd\n",
    "def query_db(query):\n",
    "    conn = sqlite3.connect('customer_database.db')\n",
    "    cursor = conn.cursor()\n",
    "    cursor.execute(query)\n",
    "    result = pd.DataFrame(cursor.fetchall())\n",
    "    column_names = [description[0] for description in cursor.description]\n",
    "    result.columns = column_names\n",
    "    if 'InvoiceDate' in result.columns:\n",
    "        result['InvoiceDate'] = pd.to_datetime(result['InvoiceDate'])\n",
    "    conn.close()\n",
    "    return result\n"
   ]
  },
  {
   "cell_type": "code",
   "execution_count": 3,
   "id": "8bd9b1d8-bfe6-49b0-8a5e-aac914e09806",
   "metadata": {},
   "outputs": [],
   "source": [
    "df= query_db(\"select * from CRM where InvoiceDate > Datetime('2009-12-01 07:45:00') and InvoiceDate < Datetime('2009-12-01 07:48:00') \")"
   ]
  },
  {
   "cell_type": "code",
   "execution_count": 4,
   "id": "9a98e02a-5131-45cf-82b0-f4f5e4b1b66e",
   "metadata": {},
   "outputs": [
    {
     "data": {
      "text/plain": [
       "True"
      ]
     },
     "execution_count": 4,
     "metadata": {},
     "output_type": "execute_result"
    }
   ],
   "source": []
  },
  {
   "cell_type": "code",
   "execution_count": 5,
   "id": "3644d8c0-a37c-411f-b4ca-ec79a337aa3b",
   "metadata": {},
   "outputs": [],
   "source": [
    "from langchain_google_genai import ChatGoogleGenerativeAI\n",
    "from IPython.display import display, Markdown\n",
    "llm = ChatGoogleGenerativeAI(model = \"gemini-1.5-flash\", temprature = 0)\n",
    "# display(Markdown(llm.invoke(\"What is life?\").content))"
   ]
  },
  {
   "cell_type": "code",
   "execution_count": null,
   "id": "aa098506-24ad-45ad-8e08-0fb5fa0a5478",
   "metadata": {},
   "outputs": [
    {
     "name": "stdout",
     "output_type": "stream",
     "text": [
      "SELECT T2.Description, SUM(T1.Quantity) AS TotalQuantity, CAST(SUM(T1.Quantity) AS REAL) * 100 / (SELECT SUM(Quantity) FROM CRM) AS Percentage FROM CRM AS T1 INNER JOIN CRM AS T2 ON T1.StockCode = T2.StockCode GROUP BY T2.Description ORDER BY TotalQuantity DESC LIMIT 2\n"
     ]
    }
   ],
   "source": [
    "from langchain.prompts import PromptTemplate\n",
    "from langchain_core.output_parsers import JsonOutputParser, StrOutputParser\n",
    "question = \"What are the two most bought products and what percentage of the total population do they represent? Give me the count of each of these and the percentage.\"\n",
    "\n",
    "\n",
    "\n",
    "sql_prompt = PromptTemplate(\n",
    "    template = \"\"\"\n",
    "    System: You are an SQL Agent.\n",
    "    You have access to a single database called {db_name}\n",
    "    This database has only a single table called {table_name}.\n",
    "    You will be prompted with a question from a user and your job is to write an SQL query that will retrieve the relevant data from the database.\n",
    "    Assign proper aliases in your query.\n",
    "    Additional info, you are using SQLite, so use the appropriate sql functions when required\n",
    "    The columns of the CRM table are as follows:\n",
    "    {columns}\n",
    "    In your response, only return an SQL query in JSON format with nothing before or after it.\n",
    "    ===========================================================================\n",
    "    Question: {question}\n",
    "    \"\"\",\n",
    "    input_variables = ['db_name','table_name','columns','question']\n",
    ")\n",
    "sql_agent = sql_prompt | llm | JsonOutputParser()\n",
    "\n",
    "query = sql_agent.invoke({\n",
    "    'db_name':'customer_database',\n",
    "    'table_name':'CRM',\n",
    "    'columns':df.columns,\n",
    "    'question':question\n",
    "})['query']\n",
    "print(query)\n",
    "query_db(query)"
   ]
  },
  {
   "cell_type": "code",
   "execution_count": null,
   "id": "21b91761-455f-4e0d-9ff4-469e6e1de368",
   "metadata": {},
   "outputs": [],
   "source": []
  }
 ],
 "metadata": {
  "kernelspec": {
   "display_name": "Python 3 (ipykernel)",
   "language": "python",
   "name": "python3"
  },
  "language_info": {
   "codemirror_mode": {
    "name": "ipython",
    "version": 3
   },
   "file_extension": ".py",
   "mimetype": "text/x-python",
   "name": "python",
   "nbconvert_exporter": "python",
   "pygments_lexer": "ipython3",
   "version": "3.12.4"
  }
 },
 "nbformat": 4,
 "nbformat_minor": 5
}
